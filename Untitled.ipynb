{
 "cells": [
  {
   "cell_type": "markdown",
   "id": "424fef89",
   "metadata": {},
   "source": [
    "## Creating our first Function"
   ]
  },
  {
   "cell_type": "code",
   "execution_count": 3,
   "id": "bf32a402",
   "metadata": {},
   "outputs": [],
   "source": [
    "import yfinance as yf\n",
    "import pandas as pd\n",
    "import numpy as np\n",
    "import matplotlib.pyplot as plt"
   ]
  },
  {
   "cell_type": "code",
   "execution_count": 4,
   "id": "6969b032",
   "metadata": {},
   "outputs": [],
   "source": [
    "def testStrategy(stock,start,end,SMA):\n",
    "    df=yf.download(stock,start=start,end=end)\n",
    "    data=df.Close.to_frame()\n",
    "    data['returns']=np.log(data.Close.div(data.Close.shift(1)))\n",
    "    data['SMA_S']=data.Close.rolling(int(SMA[0])).mean()\n",
    "    data['SMA_L']=data.Close.rolling(int(SMA[1])).mean()\n",
    "    data.dropna(inplace=True)\n",
    "    \n",
    "    data['position']=np.where(data['SMA_S']>data['SMA_L'],1,-1)\n",
    "    data['strategy']=data['returns']*data.position.shift(1)\n",
    "    data.dropna(inplace=True)\n",
    "    ret=np.exp(data['strategy'].sum())\n",
    "    std=data['strategy'].std()*np.sqrt(252)\n",
    "    \n",
    "    return ret,std"
   ]
  },
  {
   "cell_type": "code",
   "execution_count": 6,
   "id": "f6dd9994",
   "metadata": {},
   "outputs": [
    {
     "name": "stdout",
     "output_type": "stream",
     "text": [
      "[*********************100%%**********************]  1 of 1 completed\n"
     ]
    },
    {
     "data": {
      "text/plain": [
       "(0.16915245698071216, 0.22122335221358524)"
      ]
     },
     "execution_count": 6,
     "metadata": {},
     "output_type": "execute_result"
    }
   ],
   "source": [
    "testStrategy('WMT', '2000-01-01', '2023-05-05', (50,200))"
   ]
  },
  {
   "cell_type": "code",
   "execution_count": null,
   "id": "9acba4db",
   "metadata": {},
   "outputs": [],
   "source": []
  }
 ],
 "metadata": {
  "kernelspec": {
   "display_name": "Python 3 (ipykernel)",
   "language": "python",
   "name": "python3"
  },
  "language_info": {
   "codemirror_mode": {
    "name": "ipython",
    "version": 3
   },
   "file_extension": ".py",
   "mimetype": "text/x-python",
   "name": "python",
   "nbconvert_exporter": "python",
   "pygments_lexer": "ipython3",
   "version": "3.11.5"
  }
 },
 "nbformat": 4,
 "nbformat_minor": 5
}
