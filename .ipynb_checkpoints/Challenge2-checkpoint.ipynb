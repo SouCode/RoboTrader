{
 "cells": [
  {
   "cell_type": "markdown",
   "id": "06b35e3a",
   "metadata": {},
   "source": [
    "# Challenge 2"
   ]
  },
  {
   "cell_type": "code",
   "execution_count": 1,
   "id": "f8c5dc8a",
   "metadata": {},
   "outputs": [],
   "source": [
    "#Take the 5 Stocks that you picked and plot the moving averages"
   ]
  },
  {
   "cell_type": "code",
   "execution_count": null,
   "id": "4a9691fd",
   "metadata": {},
   "outputs": [],
   "source": [
    "import yfinance as yf\n",
    "import pandas as pd\n",
    "import numpy as np\n",
    "import matplotlib.pyplot as plt\n",
    "import mplfinance as mpf\n",
    "import seaborn as sns"
   ]
  },
  {
   "cell_type": "code",
   "execution_count": null,
   "id": "98e9da71",
   "metadata": {},
   "outputs": [],
   "source": [
    "topPicks = ['SPY','UNH', 'NOC', 'NVDA', 'MSFT', 'PANW', 'V', 'TSLA',\n",
    "            'BA', 'WMT', 'MPC', 'ABNB', 'GE', 'QCOM', 'ORCL', 'DIS', \n",
    "           'OKTA', 'BHP', 'SLB', 'TSN', 'EQT']\n",
    "stocks = yf.download(topPicks, start = '2008-01-01', end ='2023-10-01')"
   ]
  },
  {
   "cell_type": "code",
   "execution_count": null,
   "id": "e15434d3",
   "metadata": {
    "collapsed": true
   },
   "outputs": [],
   "source": []
  }
 ],
 "metadata": {
  "kernelspec": {
   "display_name": "Python 3 (ipykernel)",
   "language": "python",
   "name": "python3"
  },
  "language_info": {
   "codemirror_mode": {
    "name": "ipython",
    "version": 3
   },
   "file_extension": ".py",
   "mimetype": "text/x-python",
   "name": "python",
   "nbconvert_exporter": "python",
   "pygments_lexer": "ipython3",
   "version": "3.11.5"
  }
 },
 "nbformat": 4,
 "nbformat_minor": 5
}
