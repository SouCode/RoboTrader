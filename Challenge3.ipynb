{
 "cells": [
  {
   "cell_type": "markdown",
   "id": "1fe1b850",
   "metadata": {},
   "source": [
    "## Find the best SMA for the top 5 stocks\n",
    "## Create a bias strategy\n",
    "## Compare Drawndowns\n",
    "## Pick the best 3 stocks on your portfolio."
   ]
  },
  {
   "cell_type": "raw",
   "id": "a98a56df",
   "metadata": {},
   "source": [
    "import yfinance as yf\n",
    "import pandas as pd\n",
    "import numpy as np\n",
    "import matplotlib.pyplot as plt\n",
    "\n",
    "# Define the tickers\n",
    "tickers = ['UNH', 'NOC', 'WMT', 'QCOM', 'CWCO', 'KR']\n",
    "\n",
    "# Initialize a dictionary to store stock data\n",
    "stock_data = {}\n",
    "\n",
    "# Loop through each ticker\n",
    "for ticker in tickers:\n",
    "    # Download stock data\n",
    "    stock = yf.download(ticker)\n",
    "    stock = stock['Close'].to_frame()\n",
    "    \n",
    "    # Calculate daily logarithmic returns\n",
    "    stock['d_returns'] = np.log(stock / stock.shift(1))\n",
    "    \n",
    "    # Calculate cumulative returns\n",
    "    stock['culmreturns'] = stock['d_returns'].cumsum().apply(np.exp)\n",
    "    \n",
    "    # Calculate annualized mean and standard deviation of daily returns\n",
    "    stock['annual_mean'] = stock['d_returns'].mean() * 252\n",
    "    stock['annual_std'] = stock['d_returns'].std() * np.sqrt(252)\n",
    "    \n",
    "    # Calculate drawdowns\n",
    "    stock['culmmax'] = stock['culmreturns'].cummax()\n",
    "    stock['drawdown'] = stock['culmmax'] - stock['culmreturns']\n",
    "    stock['drawdown_pct'] = stock['drawdown'] / stock['culmmax']\n",
    "    \n",
    "    # Implement SMA strategy\n",
    "    smaSmall = 50\n",
    "    smaLarge = 100\n",
    "    stock['smaSmall'] = stock['Close'].rolling(smaSmall).mean()\n",
    "    stock['smaLarge'] = stock['Close'].rolling(smaLarge).mean()\n",
    "    stock.dropna(inplace=True)\n",
    "    stock['position'] = np.where(stock['smaSmall'] > stock['smaLarge'], 1, -1)\n",
    "    \n",
    "    # Calculate strategy returns\n",
    "    stock['returnsB&H'] = np.log(stock['Close'] / stock['Close'].shift(1))\n",
    "    stock['strategy'] = stock['returnsB&H'] * stock['position'].shift(1)\n",
    "    stock.dropna(inplace=True)\n",
    "    \n",
    "    # Store the stock data in the dictionary\n",
    "    stock_data[ticker] = stock\n",
    "\n",
    "# Plot settings\n",
    "plt.rcParams[\"figure.figsize\"] = (12, 8)\n",
    "\n",
    "# Iterate over each stock and create plots\n",
    "for ticker, stock in stock_data.items():\n",
    "    # Plot cumulative returns\n",
    "    stock['culmreturns'].plot(title=f'{ticker} - Cumulative Returns', fontsize=12)\n",
    "    plt.xlabel('Date')\n",
    "    plt.ylabel('Cumulative Returns')\n",
    "    plt.show()\n",
    "\n",
    "    # Plot cumulative returns and cumulative max (to visualize drawdowns)\n",
    "    stock[['culmreturns', 'culmmax']].plot(title=f'{ticker} - Cumulative Returns and Cumulative Max', fontsize=12)\n",
    "    plt.xlabel('Date')\n",
    "    plt.ylabel('Cumulative Returns')\n",
    "    plt.show()\n",
    "\n",
    "    # Plot drawdowns\n",
    "    stock['drawdown'].plot(title=f'{ticker} - Drawdowns', fontsize=12)\n",
    "    plt.xlabel('Date')\n",
    "    plt.ylabel('Drawdown')\n",
    "    plt.show()\n",
    "\n",
    "    # Plot the SMA crossover strategy positions\n",
    "    stock[['smaSmall', 'smaLarge']].plot(title=f'{ticker} - SMA Crossover', fontsize=12)\n",
    "    plt.xlabel('Date')\n",
    "    plt.ylabel('SMA Values')\n",
    "    plt.show()\n",
    "\n",
    "    # Plot the buy and hold strategy vs SMA strategy\n",
    "    stock[['returnsB&H', 'strategy']].cumsum().apply(np.exp).plot(title=f'{ticker} - Buy & Hold vs SMA Strategy', fontsize=12)\n",
    "    plt.xlabel('Date')\n",
    "    plt.ylabel('Strategy Returns')\n",
    "    plt.show()\n"
   ]
  },
  {
   "cell_type": "code",
   "execution_count": 4,
   "id": "d6d0098c",
   "metadata": {},
   "outputs": [],
   "source": [
    "def testStrategy(stock,start,end,SMA):\n",
    "    df=yf.download(stock,start=start,end=end)\n",
    "    data=df.Close.to_frame()\n",
    "    data['returns']=np.log(data.Close.div(data.Close.shift(1)))\n",
    "    data['SMA_S']=data.Close.rolling(int(SMA[0])).mean()\n",
    "    data['SMA_L']=data.Close.rolling(int(SMA[1])).mean()\n",
    "    data.dropna(inplace=True)\n",
    "    \n",
    "    data['position']=np.where(data['SMA_S']>data['SMA_L'],1,-1)\n",
    "    data['strategy']=data['returns']*data.position.shift(1)\n",
    "    data.dropna(inplace=True)\n",
    "    ret=np.exp(data['strategy'].sum())\n",
    "    std=data['strategy'].std()*np.sqrt(252)\n",
    "    \n",
    "    return ret,std"
   ]
  },
  {
   "cell_type": "code",
   "execution_count": 6,
   "id": "125f1907",
   "metadata": {},
   "outputs": [
    {
     "name": "stdout",
     "output_type": "stream",
     "text": [
      "[*********************100%%**********************]  1 of 1 completed\n"
     ]
    },
    {
     "data": {
      "text/plain": [
       "(72.5116281824021, 0.6151430045179632)"
      ]
     },
     "execution_count": 6,
     "metadata": {},
     "output_type": "execute_result"
    }
   ],
   "source": [
    "testStrategy('', '2000-01-01', '2023-05-05', (50,200))"
   ]
  },
  {
   "cell_type": "code",
   "execution_count": null,
   "id": "a8ac343c",
   "metadata": {},
   "outputs": [],
   "source": []
  }
 ],
 "metadata": {
  "kernelspec": {
   "display_name": "Python 3 (ipykernel)",
   "language": "python",
   "name": "python3"
  },
  "language_info": {
   "codemirror_mode": {
    "name": "ipython",
    "version": 3
   },
   "file_extension": ".py",
   "mimetype": "text/x-python",
   "name": "python",
   "nbconvert_exporter": "python",
   "pygments_lexer": "ipython3",
   "version": "3.11.5"
  }
 },
 "nbformat": 4,
 "nbformat_minor": 5
}
